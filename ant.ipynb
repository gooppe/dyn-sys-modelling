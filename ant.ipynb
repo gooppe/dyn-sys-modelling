{
 "cells": [
  {
   "cell_type": "code",
   "execution_count": 4,
   "metadata": {},
   "outputs": [],
   "source": [
    "import numpy as np\n",
    "import matplotlib.pyplot as plt\n",
    "\n",
    "plt.rcParams[\"figure.figsize\"] = (20,10)"
   ]
  },
  {
   "cell_type": "code",
   "execution_count": 5,
   "metadata": {},
   "outputs": [],
   "source": [
    "def ant(size:tuple, initial_direction=\"r\", iters=10000):\n",
    "    directions = {\"l\": (-1, 0),\n",
    "                  \"t\": (0, 1),\n",
    "                  \"r\": (1, 0),\n",
    "                  \"b\": (0, -1)}\n",
    "    rotl = dict(zip([\"l\", \"t\", \"r\", \"b\"], [\"b\", \"l\", \"t\", \"r\"]))\n",
    "    rotr = dict(zip([\"l\", \"t\", \"r\", \"b\"], [\"t\", \"r\", \"b\", \"l\"]))\n",
    "    \n",
    "    assert initial_direction in directions.keys(), f\"Use valid direction: {directions.keys()}\"\n",
    "    \n",
    "    def step(x, y, d:str):\n",
    "        s_x, s_y = directions[d]\n",
    "        return x + s_x, y + s_y\n",
    "    \n",
    "    x_size, y_size = size\n",
    "    x, y = x_size // 2, y_size // 2\n",
    "    \n",
    "    img = np.ones(size)\n",
    "    direction = initial_direction\n",
    "    \n",
    "    for i in range(iters):\n",
    "        x, y = step(x, y, direction)\n",
    "        if img[x, y] == 0:\n",
    "            img[x, y] = 1\n",
    "            direction = rotl[direction]\n",
    "        else:\n",
    "            img[x, y] = 0\n",
    "            direction = rotr[direction]\n",
    "    return img"
   ]
  },
  {
   "cell_type": "code",
   "execution_count": 6,
   "metadata": {},
   "outputs": [
    {
     "data": {
      "image/png": "[encoded data removed]",
      "text/plain": [
       "<Figure size 1440x720 with 1 Axes>"
      ]
     },
     "metadata": {
      "needs_background": "light"
     },
     "output_type": "display_data"
    }
   ],
   "source": [
    "size = (256, 256)\n",
    "img = ant(size, \"b\", iters=15500)\n",
    "plt.imshow(img, cmap=plt.get_cmap(\"gray\"))\n",
    "plt.show()"
   ]
  }
 ],
 "metadata": {
  "kernelspec": {
   "display_name": "work",
   "language": "python",
   "name": "work"
  },
  "language_info": {
   "codemirror_mode": {
    "name": "ipython",
    "version": 3
   },
   "file_extension": ".py",
   "mimetype": "text/x-python",
   "name": "python",
   "nbconvert_exporter": "python",
   "pygments_lexer": "ipython3",
   "version": "3.6.8"
  }
 },
 "nbformat": 4,
 "nbformat_minor": 2
}
